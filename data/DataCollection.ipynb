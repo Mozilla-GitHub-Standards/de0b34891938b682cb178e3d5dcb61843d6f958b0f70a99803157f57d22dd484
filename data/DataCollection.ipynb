{
 "cells": [
  {
   "cell_type": "markdown",
   "metadata": {},
   "source": [
    "# Data Collection for Addons Engagement Study\n",
    "\n",
    "This notebook uses the longitudinal dataset to build a proof-of-concept design matrix for the addons engagement study, which seeks to answer the question: **Does having addons increase user engagement?** *(definition of engagement TBD)*\n",
    "\n",
    "Specs for this study can be found [here](https://metrics.mozilla.com/protected/dzeber/docs/addons-engagement-study.html), however I've included the **Covariates** section of the spec which includes a preliminary list of variables to include in our design matrix that is subject to change.\n",
    "\n",
    "\n",
    "\n",
    "\n",
    "\n",
    "\n",
    "### Covariates\n",
    "\n",
    "The following measures will be included as covariates in the model, in order to control for their effect when analyzing the effect on the response of installing the add-on.\n",
    "\n",
    "The following system characteristics are intended to describe a user's computing environment/resources, as well as give an indication of their technical knowledge.\n",
    "\n",
    "- OS\n",
    "- OS version (Windows only)\n",
    "- System architecture\n",
    "- System memory (grouped by 2^n GB)\n",
    "- Number of physical CPU cores\n",
    "- (First) graphics adapter vendorID?\n",
    "\n",
    "There are some other features we want to control for but aren't explicitly interested in.\n",
    "\n",
    "- Average number of main crashes per session hour\n",
    "- Initial Firefox version\n",
    "- Profile creation date (grouped by month)\n",
    "- Did they have non-system, non-acceptable add-ons?\n",
    "    + eg. did they have foreign-installed, enabled add-ons?\n",
    "- Did they enable telemetry by the end of the period?\n",
    "\n",
    "#### Possible Responses / addition explanatory variables\n",
    "*These are proposed engagement metrics and are here for reference however it is likely that only a handful will be used, or some combination of them*\n",
    "\n",
    "The following statistics are aggregated over a period. Together, they characterize a user's pattern of activity and engagement.\n",
    "\n",
    "- Total number of active days in the period\n",
    "- Longest run of consecutive active days in the period\n",
    "- Was the profile active on weekends?\n",
    "- Average number of sessions per active day\n",
    "- Average uptime per active day (in minutes)\n",
    "- Average usage intensity (percentage of uptime that was \"active\")\n",
    "- Did they configure sync and link at least one device by the end of the period?\n",
    "- Was Firefox set as the default browser at the end of the period?\n",
    "- Did they change their search default at some point during the period?\n",
    "    + Otherwise, the actual search default at the end of the period: Yahoo/Google/Other\n",
    "- Did they make any bookmarks during the period?\n",
    "- Average number of history pages per uptime hour\n",
    "- Did they make any SAP searches during the period?\n",
    "    + Otherwise, average search rate (searches per hour)\n",
    "- Did they change their theme at some point during the period?\n",
    "\n",
    "\n",
    "\n",
    "\n",
    "\n",
    "Below is the query to get the initial covariates in place. For now, I am taking the first element of the nested arrays containing meta-data about a user's environment (so, the most recent entry, or the last entry we observed for that profile). This is subject to change."
   ]
  },
  {
   "cell_type": "code",
   "execution_count": 77,
   "metadata": {
    "collapsed": false
   },
   "outputs": [],
   "source": [
    "import addons\n",
    "import pandas as pd\n",
    "import numpy as np\n",
    "import pyspark.sql.types as sql_types\n",
    "import pyspark.sql.functions as fun\n",
    "import matplotlib.pyplot as plt\n",
    "import seaborn\n",
    "seaborn.set_style('whitegrid')\n",
    "%matplotlib inline\n",
    "\n",
    "sc.addPyFile('addons.py')"
   ]
  },
  {
   "cell_type": "code",
   "execution_count": 15,
   "metadata": {
    "collapsed": false
   },
   "outputs": [],
   "source": [
    "# Cutoffs for when a profile was created\n",
    "PROF_CREATED_START = \"'2016-01-01'\"\n",
    "PROF_CREATED_END   = \"'2016-03-31'\"\n",
    "\n",
    "format_pcd = fun.udf(addons.format_time, sql_types.DateType())\n",
    "\n",
    "query = \\\n",
    "'''\n",
    "select\n",
    "\n",
    "--THESE FIELDS ARE NOT NESTED\n",
    "client_id, os, normalized_channel, \n",
    "\n",
    "--THESE FIELDS ARE KEPT NESTED FOR FURTHER MUNGING\n",
    "submission_date, session_length, active_addons, settings,\n",
    "\n",
    "--OF THE FOLLOWING NESTED FIELDS, TAKE DATA FROM NEWEST ENTRY\n",
    "geo_country[1] as geo_country,\n",
    "profile_creation_date[1] as profile_creation_date,\n",
    "settings[1].locale as locale,\n",
    "system[1].memory_mb as memory_mb,\n",
    "system_device[1].model as device_model,\n",
    "system_device[1].manufacturer as device_manufac,\n",
    "system_device[1].hardware as device_hardware,\n",
    "system_device[1].is_tablet as device_is_tablet,\n",
    "system_os[1].name as system_os,\n",
    "system_os[1].version as system_os_version,\n",
    "system_os[1].locale as system_os_locale,\n",
    "build[1].application_name as application_name,\n",
    "build[1].architecture as architecture,\n",
    "build[1].version as build_version,\n",
    "build[1].build_id as build_id,\n",
    "build[1].vendor as vendor,\n",
    "system_cpu[1].cores as cores,\n",
    "system_gfx[1].adapters.vendor_id[1] as gfx_vendor_id\n",
    "\n",
    "from longitudinal\n",
    "where profile_creation_date[1] >= {}\n",
    "and   profile_creation_date[1] <= {}\n",
    "'''.format(PROF_CREATED_START, PROF_CREATED_END)\n",
    "\n",
    "\n",
    "dataset = sqlContext.sql(query)"
   ]
  },
  {
   "cell_type": "code",
   "execution_count": 3,
   "metadata": {
    "collapsed": false
   },
   "outputs": [
    {
     "name": "stdout",
     "output_type": "stream",
     "text": [
      "root\n",
      " |-- client_id: string (nullable = true)\n",
      " |-- os: string (nullable = true)\n",
      " |-- normalized_channel: string (nullable = true)\n",
      " |-- submission_date: array (nullable = true)\n",
      " |    |-- element: string (containsNull = true)\n",
      " |-- session_length: array (nullable = true)\n",
      " |    |-- element: long (containsNull = true)\n",
      " |-- active_addons: array (nullable = true)\n",
      " |    |-- element: map (containsNull = true)\n",
      " |    |    |-- key: string\n",
      " |    |    |-- value: struct (valueContainsNull = true)\n",
      " |    |    |    |-- blocklisted: boolean (nullable = true)\n",
      " |    |    |    |-- description: string (nullable = true)\n",
      " |    |    |    |-- name: string (nullable = true)\n",
      " |    |    |    |-- user_disabled: boolean (nullable = true)\n",
      " |    |    |    |-- app_disabled: boolean (nullable = true)\n",
      " |    |    |    |-- version: string (nullable = true)\n",
      " |    |    |    |-- scope: integer (nullable = true)\n",
      " |    |    |    |-- type: string (nullable = true)\n",
      " |    |    |    |-- foreign_install: boolean (nullable = true)\n",
      " |    |    |    |-- has_binary_components: boolean (nullable = true)\n",
      " |    |    |    |-- install_day: long (nullable = true)\n",
      " |    |    |    |-- update_day: long (nullable = true)\n",
      " |    |    |    |-- signed_state: integer (nullable = true)\n",
      " |    |    |    |-- is_system: boolean (nullable = true)\n",
      " |-- settings: array (nullable = true)\n",
      " |    |-- element: struct (containsNull = true)\n",
      " |    |    |-- addon_compatibility_check_enabled: boolean (nullable = true)\n",
      " |    |    |-- blocklist_enabled: boolean (nullable = true)\n",
      " |    |    |-- is_default_browser: boolean (nullable = true)\n",
      " |    |    |-- default_search_engine: string (nullable = true)\n",
      " |    |    |-- default_search_engine_data: struct (nullable = true)\n",
      " |    |    |    |-- name: string (nullable = true)\n",
      " |    |    |    |-- load_path: string (nullable = true)\n",
      " |    |    |    |-- submission_url: string (nullable = true)\n",
      " |    |    |-- search_cohort: string (nullable = true)\n",
      " |    |    |-- e10s_enabled: boolean (nullable = true)\n",
      " |    |    |-- e10s_cohort: string (nullable = true)\n",
      " |    |    |-- telemetry_enabled: boolean (nullable = true)\n",
      " |    |    |-- locale: string (nullable = true)\n",
      " |    |    |-- update: struct (nullable = true)\n",
      " |    |    |    |-- channel: string (nullable = true)\n",
      " |    |    |    |-- enabled: boolean (nullable = true)\n",
      " |    |    |    |-- auto_download: boolean (nullable = true)\n",
      " |    |    |-- user_prefs: map (nullable = true)\n",
      " |    |    |    |-- key: string\n",
      " |    |    |    |-- value: string (valueContainsNull = true)\n",
      " |-- geo_country: string (nullable = true)\n",
      " |-- profile_creation_date: string (nullable = true)\n",
      " |-- locale: string (nullable = true)\n",
      " |-- memory_mb: integer (nullable = true)\n",
      " |-- device_model: string (nullable = true)\n",
      " |-- device_manufac: string (nullable = true)\n",
      " |-- device_hardware: string (nullable = true)\n",
      " |-- device_is_tablet: boolean (nullable = true)\n",
      " |-- system_os: string (nullable = true)\n",
      " |-- system_os_version: string (nullable = true)\n",
      " |-- system_os_locale: string (nullable = true)\n",
      " |-- application_name: string (nullable = true)\n",
      " |-- architecture: string (nullable = true)\n",
      " |-- build_version: string (nullable = true)\n",
      " |-- build_id: string (nullable = true)\n",
      " |-- vendor: string (nullable = true)\n",
      " |-- cores: integer (nullable = true)\n",
      " |-- gfx_vendor_id: string (nullable = true)\n",
      "\n"
     ]
    }
   ],
   "source": [
    "dataset.printSchema()"
   ]
  },
  {
   "cell_type": "code",
   "execution_count": 4,
   "metadata": {
    "collapsed": false
   },
   "outputs": [
    {
     "data": {
      "text/plain": [
       "595090"
      ]
     },
     "execution_count": 4,
     "metadata": {},
     "output_type": "execute_result"
    }
   ],
   "source": [
    "dataset.count()"
   ]
  },
  {
   "cell_type": "markdown",
   "metadata": {},
   "source": [
    "We have the data we want here, but we still need to create aggregates for each profile in each period. The data we just created has profiles that were created sometime in Jan-March, 2016. The model we've proposed uses [Difference-in-Differences Estimation](https://en.wikipedia.org/wiki/Difference_in_differences), which uses observational data to simulate an experimental research study design. What this means is we need to \"apply\" a treatment to a portion of our data over some time period, however this treatment is observed. In this case, the treatment is whether or not a user has installed an addon at some point in the study period. \n",
    "\n",
    "To do this, we also need to construct pre and post periods. The pre period contains profiles that have not yet installed an addon (both treatment and control groups have 0 (non-system, user_enabled, non-foreign_installed) addons. The post period contains the same profiles, however the treament group has installed an addon whereas the control group still has not. Since profiles install addons at different times, there is no clean cutoff time for splitting our data into a pre and post period. Choosing this cutoff will require some thought to ensure that we not only sufficiently observe users behavior before installing an addon, but also to ensure that the treatment and control groups are relatively balanced. \n",
    "\n",
    "First, we need to figure out when users have installed their first addon, specifically a non-system addon, that wasn't foreign installed and that isn't disabled (i.e. the user actively installed this addon and is using it). To simplify this problem, we can look at when a user installed a *specific* addon and use this as the treatment indicator. Below I define `ADDON_GUID` as the GUID for Adblock Plus. \n",
    "\n",
    "\n",
    "Some things to Note:\n",
    "   * I create a new column that is a `Struct` object with three fields:\n",
    "       * **date**: the date of a user's first install\n",
    "       * **group**: A profile can belong to one of three groups under this framework:\n",
    "          * `match`: the addon_id in question is the first install (or among the first installed addons)\n",
    "          * `other`: the addon_id in question is not the first installed addon\n",
    "          * `no-match`: no addons have been installed\n",
    "       * **idx**: The index of the ping that contains the first install\n",
    "           * This will be useful later on when splitting into pre and post"
   ]
  },
  {
   "cell_type": "code",
   "execution_count": 8,
   "metadata": {
    "collapsed": false
   },
   "outputs": [],
   "source": [
    "# Adblock plus\n",
    "ADDON_GUID='{d10d0bf8-f5b5-c8b4-a8b2-2b9879e08c5d}'\n",
    "\n",
    "def addon_first_installed(addon_lst, date):\n",
    "    '''\n",
    "    Finds the date and index of the first entry that contains some\n",
    "    addon_id as a key (defined globally) i.e., when was this addon\n",
    "    first installed. In addition the addon must be the first addon\n",
    "    or among the first addons installed for a user.\n",
    "    \n",
    "    addon_lst: list of dicts of size n or None\n",
    "    date:      list of dates of size n or None\n",
    "    \n",
    "    return (date, index)\n",
    "    '''\n",
    "    try:\n",
    "        n = len(addon_lst)\n",
    "    except TypeError:\n",
    "        return (None, -1, 'no_addons')\n",
    "    \n",
    "    # iterate starting from last index\n",
    "    for i in range(n-1, -1, -1):\n",
    "        current = addon_lst[i]\n",
    "        if current is None or len(current) == 0:\n",
    "            continue\n",
    "        found_eligible = False\n",
    "        for addon in current:\n",
    "            if not current[addon]['foreign_install'] \\\n",
    "            and not current[addon]['user_disabled'] \\\n",
    "            and addon not in addons.SYSTEM_ADDONS:\n",
    "                found_eligible = True\n",
    "                if addon == ADDON_GUID:\n",
    "                    return (addons.format_time(date[i]), i, 'match')\n",
    "        if found_eligible:\n",
    "            return (addons.format_time(date[i]), i, 'other')\n",
    "    return (None, -1, 'no_addons')\n",
    "\n",
    "\n",
    "addon_first_installed = fun.udf(addon_first_installed, \n",
    "                                sql_types.StructType([\n",
    "                                        sql_types.StructField(\"date\", sql_types.DateType(), True),\n",
    "                                        sql_types.StructField(\"idx\",  sql_types.IntegerType(), True),\n",
    "                                        sql_types.StructField(\"group\",sql_types.StringType(), True)\n",
    "                                        ]))  "
   ]
  },
  {
   "cell_type": "markdown",
   "metadata": {},
   "source": [
    "Format `profile_creation_date` and apply `addon_first_installed()` to the `active_addons` and `submission_date` columns:"
   ]
  },
  {
   "cell_type": "code",
   "execution_count": 24,
   "metadata": {
    "collapsed": false
   },
   "outputs": [],
   "source": [
    "d = dataset.withColumn('creation_date', fun.to_date(format_time('profile_creation_date'))).drop('profile_creation_date') \\\n",
    "           .withColumnRenamed('creation_date', 'profile_creation_date')  \\\n",
    "           .withColumn('first_install', addon_first_installed('active_addons', 'submission_date')).cache()"
   ]
  },
  {
   "cell_type": "code",
   "execution_count": 19,
   "metadata": {
    "collapsed": false
   },
   "outputs": [
    {
     "data": {
      "text/plain": [
       "[Row(first_install[group]=u'no_addons', count=386103),\n",
       " Row(first_install[group]=u'match', count=46362),\n",
       " Row(first_install[group]=u'other', count=162625)]"
      ]
     },
     "execution_count": 19,
     "metadata": {},
     "output_type": "execute_result"
    }
   ],
   "source": [
    "d.groupBy(d.first_install.group).count().collect()"
   ]
  },
  {
   "cell_type": "markdown",
   "metadata": {},
   "source": [
    "Above we see the counts for the three groups in our data. We have 46,362 profiles that installed (in this case) Adblock Plus as their first addon, or it was among the first addons installed. We can now select from this group to form our treatment group under the restriction that the profile must have had at least 2 weeks(?) (or some measure) of activity before installing Adblock Plus to enure we have observed sufficient data for the pre period for each test profile.\n",
    "\n",
    "Off the top of my head this could be handled two ways:\n",
    "* take the difference between the profile creation date and the first install date\n",
    "    * simple and clear, but what if a user had, say, only one or two sessions two weeks ago, and then decided to install Ablock Plus on the second or third session? Just using this difference doesn't ensure we've seen ample **activity**, although it's my intuition that in most cases we will.\n",
    "       * we can use the `idx` field to see how many pings were submitted before the first install to check this.\n",
    "* use some measure (i.e., count # pings before first_install) and apply thresholding\n",
    "\n",
    "\n",
    "Lets take a look at the distribution of the number of days + pings before a user installs their first addon(s):"
   ]
  },
  {
   "cell_type": "code",
   "execution_count": 100,
   "metadata": {
    "collapsed": false
   },
   "outputs": [
    {
     "name": "stdout",
     "output_type": "stream",
     "text": [
      "+---------------------+--------------------+---------------+\n",
      "|profile_creation_date|       first_install|time_to_install|\n",
      "+---------------------+--------------------+---------------+\n",
      "|           2016-03-15|[2016-05-29,91,ot...|             75|\n",
      "|           2016-03-10|[2016-03-23,1,other]|             13|\n",
      "|           2016-01-30|[2016-03-18,430,o...|             48|\n",
      "|           2016-03-23|[2016-03-23,630,o...|              0|\n",
      "|           2016-03-19|[2016-03-20,209,m...|              1|\n",
      "|           2016-03-27|[2016-04-04,859,m...|              8|\n",
      "|           2016-03-23|[2016-07-16,3,other]|            115|\n",
      "|           2016-03-08|[2016-04-25,15,ot...|             48|\n",
      "|           2016-02-08|[2016-04-16,912,o...|             68|\n",
      "|           2016-03-18|[2016-05-13,469,o...|             56|\n",
      "|           2016-02-21|[2016-03-27,196,m...|             35|\n",
      "|           2016-01-10|[2016-04-12,66,ma...|             93|\n",
      "|           2016-01-23|[2016-04-23,16,ma...|             91|\n",
      "|           2016-01-25|[2016-04-01,61,ot...|             67|\n",
      "|           2016-03-15|[2016-08-16,199,o...|            154|\n",
      "|           2016-03-13|[2016-03-30,19,ot...|             17|\n",
      "|           2016-03-18|[2016-03-18,117,o...|              0|\n",
      "|           2016-01-04|[2016-04-02,640,o...|             89|\n",
      "|           2016-03-01|[2016-03-18,479,m...|             17|\n",
      "|           2016-01-04|[2016-05-14,12,ot...|            131|\n",
      "+---------------------+--------------------+---------------+\n",
      "only showing top 20 rows\n",
      "\n"
     ]
    }
   ],
   "source": [
    "# d = d.withColumnRenamed(d.profile_creation_date, format_time(fun.col('profile_creation_date')))\n",
    "d = d.withColumn('time_to_install', fun.datediff(d.first_install.date, d.profile_creation_date))\n",
    "\n",
    "d_filtered = d.filter('time_to_install is not null')\n",
    "d_filtered.select('profile_creation_date', 'first_install', 'time_to_install').show()"
   ]
  },
  {
   "cell_type": "code",
   "execution_count": 51,
   "metadata": {
    "collapsed": false
   },
   "outputs": [],
   "source": [
    "time_to_install = map(lambda x: x.time_to_install, d_filtered.select('time_to_install').collect())"
   ]
  },
  {
   "cell_type": "code",
   "execution_count": 46,
   "metadata": {
    "collapsed": false
   },
   "outputs": [],
   "source": [
    "pings_before_install = map(lambda x: x.asDict().values()[0], d_filtered.select(d.first_install.idx).collect())"
   ]
  },
  {
   "cell_type": "code",
   "execution_count": 99,
   "metadata": {
    "collapsed": false
   },
   "outputs": [
    {
     "data": {
      "image/png": "[encoded data removed]",
      "text/plain": [
       "<matplotlib.figure.Figure at 0x7f612ddc9650>"
      ]
     },
     "metadata": {},
     "output_type": "display_data"
    }
   ],
   "source": [
    "plt.figure(figsize=(12, 6))\n",
    "# filter out the few negative values\n",
    "time_to_install = [i for i in time_to_install if i >= 0]\n",
    "plt.hist(time_to_install, bins=50, alpha=.8)\n",
    "plt.title('Distribution of Days Elasped Before Installing First Addon')\n",
    "plt.xlabel('Days')\n",
    "med = np.median(time_to_install)\n",
    "plt.vlines(med, 0, 30000,\n",
    "          color='red')\n",
    "plt.text(med+ 5, 25500, \"median: \" + str(med))\n",
    "plt.show()"
   ]
  },
  {
   "cell_type": "code",
   "execution_count": 98,
   "metadata": {
    "collapsed": false
   },
   "outputs": [
    {
     "data": {
      "image/png": "[encoded data removed]",
      "text/plain": [
       "<matplotlib.figure.Figure at 0x7f612ef135d0>"
      ]
     },
     "metadata": {},
     "output_type": "display_data"
    }
   ],
   "source": [
    "plt.figure(figsize=(12, 6))\n",
    "plt.hist(pings_before_install, bins=50, alpha=.8)\n",
    "plt.title('Distribution of Pings Sent Before Installing First Addon')\n",
    "plt.xlabel('# Pings')\n",
    "med=np.median(pings_before_install)\n",
    "plt.vlines(med, 0, 60000,\n",
    "          color='red')\n",
    "plt.text(med+ 20, 51000, \"median: \" + str(med))\n",
    "plt.show()"
   ]
  },
  {
   "cell_type": "markdown",
   "metadata": {},
   "source": [
    "Looking at these plots, I am fairly confident that we will observe sufficient data when restricting the pre-period to be >= 14 days before the time of install. We can also filter by the number of pings sent.\n",
    "\n",
    "So, for now, we can populate the pre-period with profiles who have at least 14 days between profile creation date and the first install date, and who've sent >= 5 pings. These numbers are not final, however I'd like to set up some framework to be tinkered with down the road. I think 5 is a reasonable choice for the number of pings for it allows a user to use the browser for, as an example, a work week and I dont expect this filter to heavily subset our data.\n",
    "\n",
    "*Checkpoint EOD 9/27*"
   ]
  }
 ],
 "metadata": {
  "kernelspec": {
   "display_name": "Python 2",
   "language": "python",
   "name": "python2"
  },
  "language_info": {
   "codemirror_mode": {
    "name": "ipython",
    "version": 2
   },
   "file_extension": ".py",
   "mimetype": "text/x-python",
   "name": "python",
   "nbconvert_exporter": "python",
   "pygments_lexer": "ipython2",
   "version": "2.7.11"
  }
 },
 "nbformat": 4,
 "nbformat_minor": 0
}
